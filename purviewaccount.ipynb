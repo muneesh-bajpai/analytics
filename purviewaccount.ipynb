{
 "cells": [
  {
   "cell_type": "code",
   "execution_count": 1,
   "id": "782cda93",
   "metadata": {},
   "outputs": [],
   "source": [
    "#!pip install azure-mgmt-purview"
   ]
  },
  {
   "cell_type": "code",
   "execution_count": 2,
   "id": "1437baba",
   "metadata": {},
   "outputs": [],
   "source": [
    "import os\n",
    "from azure.identity import AzureCliCredential\n",
    "from azure.mgmt.resource import ResourceManagementClient\n",
    "#from azure.identity import ClientSecretCredential \n",
    "from azure.mgmt.resource import ResourceManagementClient\n",
    "from azure.mgmt.purview import PurviewManagementClient\n",
    "from azure.mgmt.purview.models import *\n",
    "from datetime import datetime, timedelta\n",
    "import time"
   ]
  },
  {
   "cell_type": "code",
   "execution_count": 3,
   "id": "bd75dfa4",
   "metadata": {},
   "outputs": [],
   "source": [
    " # Azure subscription ID\n",
    "subscription_id = '0f5eaf2f-3dc4-45cb-b94c-bd95d29d99df'\n",
    "\n",
    "# This program creates this resource group. If it's an existing resource group, comment out the code that creates the resource group\n",
    "rg_name = 'purviewmuneesh-rg'\n",
    "\n",
    "# The purview name. It must be globally unique.\n",
    "purview_name = 'purviewmuneesh-ac'"
   ]
  },
  {
   "cell_type": "code",
   "execution_count": 4,
   "id": "626a0ccb",
   "metadata": {},
   "outputs": [],
   "source": [
    "credential = AzureCliCredential()  #login using az login"
   ]
  },
  {
   "cell_type": "code",
   "execution_count": 5,
   "id": "75b75553",
   "metadata": {},
   "outputs": [],
   "source": [
    "resource_client = ResourceManagementClient(credential, subscription_id)"
   ]
  },
  {
   "cell_type": "code",
   "execution_count": 6,
   "id": "800a8a47",
   "metadata": {},
   "outputs": [],
   "source": [
    "purview_client = PurviewManagementClient(credential, subscription_id)"
   ]
  },
  {
   "cell_type": "code",
   "execution_count": 7,
   "id": "f32164d4",
   "metadata": {},
   "outputs": [],
   "source": [
    "rg_result = resource_client.resource_groups.create_or_update(rg_name, {\"location\": \"eastus\"})"
   ]
  },
  {
   "cell_type": "code",
   "execution_count": 8,
   "id": "b1fc8d98",
   "metadata": {},
   "outputs": [],
   "source": [
    "#Create a purview\n",
    "identity = Identity(type= \"SystemAssigned\")\n",
    "sku = AccountSku(name= 'Standard', capacity= 1)\n",
    "purview_resource = Account(identity=identity,sku=sku,location =\"eastus\")"
   ]
  },
  {
   "cell_type": "code",
   "execution_count": 9,
   "id": "ca5f487b",
   "metadata": {},
   "outputs": [
    {
     "name": "stdout",
     "output_type": "stream",
     "text": [
      "location: eastus  Microsoft Purview Account Name:  purviewmuneesh-ac  Id:  /subscriptions/0f5eaf2f-3dc4-45cb-b94c-bd95d29d99df/resourceGroups/purviewmuneesh-rg/providers/Microsoft.Purview/accounts/purviewmuneesh-ac  tags:  None\n",
      "Creating\n",
      "Creating\n",
      "Creating\n",
      "Creating\n",
      "Creating\n",
      "Creating\n",
      "Succeeded\n"
     ]
    }
   ],
   "source": [
    "try:\n",
    "    pa = (purview_client.accounts.begin_create_or_update(rg_name, purview_name, purview_resource)).result()\n",
    "    print(\"location:\", pa.location, \" Microsoft Purview Account Name: \", purview_name, \" Id: \" , pa.id ,\" tags: \" , pa.tags) \n",
    "except:\n",
    "    print(\"Error in submitting job to create account\")\n",
    "    print_item(pa)\n",
    "    \n",
    "while (getattr(pa,'provisioning_state')) != \"Succeeded\" :\n",
    "        pa = (purview_client.accounts.get(rg_name, purview_name))  \n",
    "        print(getattr(pa,'provisioning_state'))\n",
    "        if getattr(pa,'provisioning_state') == \"Failed\" :\n",
    "            print(\"Error in creating Microsoft Purview account\")\n",
    "            break\n",
    "        time.sleep(30)    "
   ]
  },
  {
   "cell_type": "code",
   "execution_count": 11,
   "id": "8e006940",
   "metadata": {},
   "outputs": [],
   "source": [
    "pa = purview_client.accounts.begin_delete(rg_name, purview_name).result()"
   ]
  },
  {
   "cell_type": "code",
   "execution_count": null,
   "id": "d836edd7",
   "metadata": {},
   "outputs": [],
   "source": []
  }
 ],
 "metadata": {
  "kernelspec": {
   "display_name": "Python 3 (ipykernel)",
   "language": "python",
   "name": "python3"
  },
  "language_info": {
   "codemirror_mode": {
    "name": "ipython",
    "version": 3
   },
   "file_extension": ".py",
   "mimetype": "text/x-python",
   "name": "python",
   "nbconvert_exporter": "python",
   "pygments_lexer": "ipython3",
   "version": "3.8.10"
  }
 },
 "nbformat": 4,
 "nbformat_minor": 5
}
