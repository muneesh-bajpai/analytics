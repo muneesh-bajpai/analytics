{
 "cells": [
  {
   "cell_type": "code",
   "execution_count": 1,
   "id": "47f91c4d",
   "metadata": {},
   "outputs": [],
   "source": [
    "import os\n",
    "from azure.identity import AzureCliCredential\n",
    "from azure.mgmt.resource import ResourceManagementClient"
   ]
  },
  {
   "cell_type": "code",
   "execution_count": 2,
   "id": "ce940aae",
   "metadata": {},
   "outputs": [],
   "source": [
    "credential = AzureCliCredential()  #login using az login"
   ]
  },
  {
   "cell_type": "code",
   "execution_count": 4,
   "id": "d2ec8821",
   "metadata": {},
   "outputs": [],
   "source": [
    "subscription_id = '0f5eaf2f-3dc4-45cb-b94c-bd95d29d99df'"
   ]
  },
  {
   "cell_type": "code",
   "execution_count": 5,
   "id": "8ea237e7",
   "metadata": {},
   "outputs": [],
   "source": [
    "resource_client = ResourceManagementClient(credential, subscription_id)"
   ]
  },
  {
   "cell_type": "code",
   "execution_count": 7,
   "id": "43fd18eb",
   "metadata": {},
   "outputs": [],
   "source": [
    "rg_result = resource_client.resource_groups.create_or_update(\n",
    "    \"purviewmuneesh-rg\", {\"location\": \"centralus\"})"
   ]
  },
  {
   "cell_type": "code",
   "execution_count": 8,
   "id": "b4eff55e",
   "metadata": {},
   "outputs": [
    {
     "name": "stdout",
     "output_type": "stream",
     "text": [
      "{'additional_properties': {}, 'id': '/subscriptions/0f5eaf2f-3dc4-45cb-b94c-bd95d29d99df/resourceGroups/purviewmuneesh-rg', 'name': 'purviewmuneesh-rg', 'type': 'Microsoft.Resources/resourceGroups', 'properties': <azure.mgmt.resource.resources.v2022_09_01.models._models_py3.ResourceGroupProperties object at 0x000002977D023970>, 'location': 'centralus', 'managed_by': None, 'tags': None}\n"
     ]
    }
   ],
   "source": [
    "print(rg_result)"
   ]
  },
  {
   "cell_type": "code",
   "execution_count": null,
   "id": "ca2566c6",
   "metadata": {},
   "outputs": [],
   "source": []
  }
 ],
 "metadata": {
  "kernelspec": {
   "display_name": "Python 3 (ipykernel)",
   "language": "python",
   "name": "python3"
  },
  "language_info": {
   "codemirror_mode": {
    "name": "ipython",
    "version": 3
   },
   "file_extension": ".py",
   "mimetype": "text/x-python",
   "name": "python",
   "nbconvert_exporter": "python",
   "pygments_lexer": "ipython3",
   "version": "3.8.10"
  }
 },
 "nbformat": 4,
 "nbformat_minor": 5
}
